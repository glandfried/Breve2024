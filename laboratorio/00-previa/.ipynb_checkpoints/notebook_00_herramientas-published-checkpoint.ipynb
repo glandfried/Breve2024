{
 "cells": [
  {
   "cell_type": "markdown",
   "metadata": {},
   "source": [
    "[![Open In Colab](https://colab.research.google.com/assets/colab-badge.svg)](https://colab.research.google.com/github/aprendizaje-automatico-dc-uba-ar/material/blob/main/notebooks/notebook_11_clustering-published.ipynb) (Este botón no anda, tenemos que ver dónde colgaremos las cosas)\n",
    "\n",
    "# Práctica de herramientas pre-curso\n",
    "\n",
    "En este notebook refrescaremos (o exploraremos por primera vez) herramientas para el curso `Inferencia bayesiana causal` del [Departamento de Computación](https://www.dc.uba.ar/) de la [Facultad de Ciencias Exactas y Naturales](https://exactas.uba.ar/) de la [Universidad de Buenos Aires](https://uba.ar/).\n",
    "\n"
   ]
  },
  {
   "cell_type": "markdown",
   "metadata": {},
   "source": [
    "## Instalando dependencias"
   ]
  },
  {
   "cell_type": "markdown",
   "metadata": {},
   "source": [
    "En esta materia usaremos el lenguaje Python y algunas bibliotecas que mencionamos en este notebook."
   ]
  },
  {
   "cell_type": "code",
   "execution_count": null,
   "metadata": {},
   "outputs": [],
   "source": [
    "!pip install scipy\n",
    "!pip install pandas\n",
    "!pip install plotnine\n",
    "!pip install seaborn\n",
    "!pip install scikit-learn"
   ]
  },
  {
   "cell_type": "markdown",
   "metadata": {},
   "source": [
    "## Obteniendo muestras\n",
    "\n",
    "Para realizar un muestreo de distintas distribuciones utilizaremos el paquete `scipy`.\n",
    "\n",
    "> SciPy es una colección de algoritmos matemáticos y funciones de conveniencia construidas sobre NumPy. Añade un poder significativo a Python al proporcionar al usuario comandos y clases de alto nivel para manipular y visualizar datos. \n",
    "Fuente: [Página oficial scipy](https://docs.scipy.org/doc/scipy/tutorial/index.html)\n",
    "\n",
    "En particular usaremos el módulo `stats` que puede importarse de la siguiente manera"
   ]
  },
  {
   "cell_type": "code",
   "execution_count": null,
   "metadata": {},
   "outputs": [],
   "source": [
    "from scipy import stats\n"
   ]
  },
  {
   "cell_type": "markdown",
   "metadata": {},
   "source": [
    "De esta manera podemos generarnos una variable aleatoria con una distribución que elijamos para utilizar. \n",
    "Empecemos con una [uniforme](https://docs.scipy.org/doc/scipy/reference/generated/scipy.stats.uniform.html#scipy.stats.uniform) (recordá que siempre podés ver la documentación ;-)).\n",
    "\n",
    "$$X \\sim Unif(a,b)$$\n",
    "\n",
    "Que quiere decir que la variable X es uniforme en el intervalo $[a, b]$.\n"
   ]
  },
  {
   "cell_type": "code",
   "execution_count": null,
   "metadata": {},
   "outputs": [],
   "source": [
    "a = 0\n",
    "b = 1\n",
    "X = stats.uniform(a, b-a)"
   ]
  },
  {
   "cell_type": "markdown",
   "metadata": {},
   "source": [
    "De esta manera podemos usar `X` para obtener diferentes cosas:\n",
    "\n",
    " - `rvs(loc=0, scale=1, size=1, random_state=None)` obtener muestras de la distribución\n",
    " - `pdf(x, loc=0, scale=1)` obtiene el valor de la densidad\n",
    " - `logpdf(x, loc=0, scale=1)` idem anterior pero en escala $log$\n",
    " - `cdf(x, loc=0, scale=1)` función de distribución acumulada\n",
    "\n",
    "**Ejercicio**: \n",
    "\n",
    "Obtener, mediante una muestra de 1000 puntos equidistantes en el intervalo $[1.5, 3.5]$, el valor de la densidad puntual y la acumulada de una uniforme(2, 3).\n",
    "Además obtener mil muestras de dicha variable aleatoria.\n",
    "\n",
    "Consejo: para este ejericio explorar la función linspace de numpy"
   ]
  },
  {
   "cell_type": "code",
   "execution_count": null,
   "metadata": {},
   "outputs": [],
   "source": [
    "import numpy as np\n",
    "\n",
    "X = ...\n",
    "\n",
    "xs = np.linspace(...)\n",
    "dp = ...\n",
    "dacum = ...\n",
    "muestras = ..\n",
    "\n",
    "# posible idea de resolucion\n",
    "for x in xs:\n",
    "    ... COMPLETAR ..."
   ]
  },
  {
   "cell_type": "markdown",
   "metadata": {},
   "source": [
    "Veamos de graficar los valores obtenidos.\n",
    "\n",
    "Para esto será necesario incluir entre nuestras herramientas algún paquete graficador. Existen varios: [matplotlib](https://matplotlib.org/), [seaborn](https://seaborn.pydata.org/), [plotnine](https://plotnine.org/tutorials/). \n",
    "En este caso exploraremos el último, por su potencia y por su gramática de construcción. Originariamente fue desarrollado en el marco del lenguaje R.\n",
    "\n",
    "La idea de un gráfico en `plotnine` consiste en atar datos al gráfico y luego aplicarle capas que usan esos datos. En las sucesivas capas es posible ir modificando cosas, incluso cambiar los datos para el mismo gráfico. Por lo general toma como entrada un `DataFrame` de `pandas` por lo que aprovechamos para introducir esta estructura también.\n",
    "\n",
    "Realicemos 3 gráficos."
   ]
  },
  {
   "cell_type": "code",
   "execution_count": null,
   "metadata": {},
   "outputs": [],
   "source": [
    "import pandas as pd\n",
    "from plotnine import ggplot, aes, ggtitle, geom_point, facet_grid, geom_histogram, ylab, theme_xkcd, geom_abline, xlim, ylim # completar con las funciones que uses"
   ]
  },
  {
   "cell_type": "code",
   "execution_count": null,
   "metadata": {},
   "outputs": [],
   "source": [
    "g1 = (\n",
    "    ggplot(pd.DataFrame({'x': xs, 'densidad': dp}), aes(x='x', y='densidad')) +\n",
    "    geom_point() +\n",
    "    ggtitle('Funcion de densidad de probabilidad') +\n",
    "    theme_xkcd()\n",
    ")\n",
    "print(g1)"
   ]
  },
  {
   "cell_type": "code",
   "execution_count": null,
   "metadata": {},
   "outputs": [],
   "source": [
    "g2 = (\n",
    "    ggplot(pd.DataFrame({'x': xs, 'acumulada': dacum}), aes(x='x', y='acumulada')) +\n",
    "    geom_point() +\n",
    "    ggtitle('Funcion de acumulada') +\n",
    "    theme_xkcd()\n",
    ")\n",
    "print(g2)"
   ]
  },
  {
   "cell_type": "markdown",
   "metadata": {},
   "source": [
    "Para graficar las muestras podemos hacer un histograma, que divide el espacio en segmentos y cuenta cuántos puntos hay en cada uno de ellos."
   ]
  },
  {
   "cell_type": "code",
   "execution_count": null,
   "metadata": {},
   "outputs": [],
   "source": [
    "g3 = (\n",
    "    ggplot(pd.DataFrame({'Valores': muestras}), aes(x='Valores')) +\n",
    "    geom_histogram(binwidth=0.05) +\n",
    "    ggtitle('Muestras') +\n",
    "    theme_xkcd() +\n",
    "    ylab(\"Cantidad\")\n",
    ")\n",
    "print(g3)"
   ]
  },
  {
   "cell_type": "markdown",
   "metadata": {},
   "source": [
    "**Ejercicio**: Explorar el paquete `scipy` y repetir el ejercicio anterior pero para una variable aleatoria con [distribución normal](https://docs.scipy.org/doc/scipy/reference/generated/scipy.stats.norm.html#scipy.stats.norm) con todas las combinaciones de parámetros:\n",
    "\n",
    "  - media: -1, 0, 1\n",
    "  - desvío estandar: 0.5, 1, 1.5"
   ]
  },
  {
   "cell_type": "markdown",
   "metadata": {},
   "source": [
    "**Ejercicio**: Simular y generar datos que tengan 2 dimensiones independientes y que a su vez vengan de Normales:\n",
    "\n",
    "   - Una con media 5 y desvío 1\n",
    "   - La segunda con media -2 y desvío 4\n",
    "\n",
    "Generar mil datos y graficarlos cuidando de mantener la relación 1 a 1 entre los ejes (es decir, tanto el eje X como el Y deben mostrar el mismo intervalo)."
   ]
  },
  {
   "cell_type": "code",
   "execution_count": null,
   "metadata": {},
   "outputs": [],
   "source": [
    "n1 = [5, 0.5]\n",
    "n2 = [-1, 3]\n",
    "\n",
    "n = 1000\n",
    "X1 = stats.norm(*n1)\n",
    "X2 = stats.norm(*n2)\n",
    "\n",
    "\n",
    "df = pd.DataFrame({\"v1\": X1.rvs(n), \"v2\": X2.rvs(n)})\n",
    "\n",
    "\n",
    "g1 = (\n",
    "    ggplot(df, aes(x='v1', y='v2')) +\n",
    "    geom_point() +\n",
    "    ggtitle('Muestras') +\n",
    "    xlim(-11, 11) +\n",
    "    ylim(-11, 11) +\n",
    "    theme_xkcd()\n",
    ")\n",
    "\n",
    "print(g1)\n",
    "\n",
    "import seaborn as sns\n",
    "import matplotlib.pyplot as plt\n",
    "\n",
    "sns.reset_defaults()\n",
    "\n",
    "gfg = sns.jointplot(x=\"v1\", y=\"v2\", data=df, xlim = (-11,11), ylim = (-11,11))\n",
    "plt.show()"
   ]
  },
  {
   "cell_type": "markdown",
   "metadata": {},
   "source": [
    "# Lectura de datos\n",
    "\n",
    "En esta sección vamos a leer datos de un archivo, modificarlos, hacer cálculos y graficarlos. Este conjunto de datos presenta la altura de una persona, su género, la contextura física de la madre y la altura de la misma."
   ]
  },
  {
   "cell_type": "code",
   "execution_count": null,
   "metadata": {},
   "outputs": [],
   "source": [
    "# df = pd.read_csv('https://raw.githubusercontent.com/emmanueliarussi/DataScienceCapstone/master/3_MidtermProjects/ProjectWC/data/attacks.csv', encoding = \"ISO-8859-1\")\n",
    "df = pd.read_csv('data_00_alturas.csv')\n",
    "\n",
    "df.head()"
   ]
  },
  {
   "cell_type": "markdown",
   "metadata": {},
   "source": [
    "En una nueva columna llamada `diferencia` calcular la diferencia entre la altura de la persona y la de la madre."
   ]
  },
  {
   "cell_type": "code",
   "execution_count": null,
   "metadata": {},
   "outputs": [],
   "source": [
    "df['diferencia'] = df[\"altura\"] - df[\"altura_madre\"]\n",
    "df.head()"
   ]
  },
  {
   "cell_type": "markdown",
   "metadata": {},
   "source": [
    "Grafiquemos la diferencia"
   ]
  },
  {
   "cell_type": "code",
   "execution_count": null,
   "metadata": {},
   "outputs": [],
   "source": [
    "g1 = (\n",
    "    ggplot(df, aes(x='diferencia')) +\n",
    "    geom_histogram(binwidth=4) +\n",
    "    ggtitle('Diferencia de altura a la madre') +\n",
    "    theme_xkcd()\n",
    ")\n",
    "print(g1)"
   ]
  },
  {
   "cell_type": "markdown",
   "metadata": {},
   "source": [
    "Grafiquemos la diferencia pero separada por género."
   ]
  },
  {
   "cell_type": "code",
   "execution_count": null,
   "metadata": {},
   "outputs": [],
   "source": [
    "g1 = (\n",
    "    ggplot(df, aes(x='diferencia', fill=\"genero\")) +\n",
    "    geom_histogram(binwidth=4, alpha=0.6, color=\"black\", position = 'identity') +\n",
    "    ggtitle('Diferencia de altura a la madre') +\n",
    "    theme_xkcd()\n",
    ")\n",
    "print(g1)"
   ]
  },
  {
   "cell_type": "markdown",
   "metadata": {},
   "source": [
    "**Ejercicio**: Encontrar los mejores $\\beta_0$ y $\\beta_1$ para que en este conjunto de datos la formula:\n",
    "\n",
    "$$ \\text{altura} = \\beta_0 + \\text{altura\\_madre} \\times \\beta_1 $$\n",
    "\n",
    "Para ello explorar (varios o muchos) valores. Elegir un intervalo razonable, sino se te ocurre cual podés probar entre 5 y 2O para $\\beta_0$ y entre -0.5 y 2 para $\\beta_1$.\n",
    "\n",
    "1. ¿qué criterio usaste para elegir el mejor?\n",
    "\n",
    "1. Realizar un gráficon con los siguientes lineamientos:\n",
    "\n",
    "    - en el eje x esté la altura de la madre\n",
    "    - en el eje y este la altura\n",
    "    - cada persona sea un punto (determinado por los ejes)\n",
    "    - calcular los valores de la recta definida según la ecuación anterior y graficarla sobre los puntos\n",
    "\n",
    "  \n"
   ]
  }
 ],
 "metadata": {
  "kernelspec": {
   "display_name": "Python 3 (ipykernel)",
   "language": "python",
   "name": "python3"
  },
  "language_info": {
   "codemirror_mode": {
    "name": "ipython",
    "version": 3
   },
   "file_extension": ".py",
   "mimetype": "text/x-python",
   "name": "python",
   "nbconvert_exporter": "python",
   "pygments_lexer": "ipython3",
   "version": "3.10.12"
  }
 },
 "nbformat": 4,
 "nbformat_minor": 2
}
