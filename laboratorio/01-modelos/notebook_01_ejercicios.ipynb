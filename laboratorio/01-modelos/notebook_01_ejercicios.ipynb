{
 "cells": [
  {
   "cell_type": "markdown",
   "metadata": {},
   "source": [
    "[![Open In Colab](https://colab.research.google.com/assets/colab-badge.svg)](https://colab.research.google.com/github/aprendizaje-automatico-dc-uba-ar/material/blob/main/notebooks/notebook_11_clustering-published.ipynb) (Este botón no anda, tenemos que ver dónde colgaremos las cosas)\n",
    "\n",
    "# Ejercicios Clase 01\n",
    "\n",
    "Este notebook contiene los ejercicios de la primera clase del curso `Inferencia bayesiana causal` del [Departamento de Computación](https://www.dc.uba.ar/) de la [Facultad de Ciencias Exactas y Naturales](https://exactas.uba.ar/) de la [Universidad de Buenos Aires](https://uba.ar/).\n",
    "\n",
    "### Temas:\n",
    "\n",
    "0. Especificación de modelo causales (o generativos) usando redes bayesianas\n",
    "0. Generación de datos (muestreo) a partrir de la especificación de modelos causales \n",
    "0. Evaluación de modelos causales alternativos a partir de datos observables\n",
    "0. El balance natural de la evaluación bayesiana de modelos alternativos "
   ]
  },
  {
   "cell_type": "code",
   "execution_count": 2,
   "metadata": {},
   "outputs": [
    {
     "name": "stdout",
     "output_type": "stream",
     "text": [
      "[sudo] password for landfried: "
     ]
    }
   ],
   "source": [
    "!sudo apt update\n",
    "!sudo apt install imagemagick\n",
    "!sudo apt install pdf2svg\n",
    "!sudo apt install texlive texlive-latex-extra\n",
    "!pip install git+https://github.com/mkrphys/ipython-tikzmagic.git\n",
    "!sed --in-place --quiet 's/policy domain=\"coder\" rights=\"none\" pattern=\"PDF\"/policy domain=\"coder\" rights=\"read|write\" pattern=\"PDF\"/g' /etc/ImageMagick-6/policy.xml\n",
    "%load_ext tikzmagic"
   ]
  },
  {
   "cell_type": "code",
   "execution_count": null,
   "metadata": {},
   "outputs": [],
   "source": []
  }
 ],
 "metadata": {
  "kernelspec": {
   "display_name": "Python 3 (ipykernel)",
   "language": "python",
   "name": "python3"
  },
  "language_info": {
   "codemirror_mode": {
    "name": "ipython",
    "version": 3
   },
   "file_extension": ".py",
   "mimetype": "text/x-python",
   "name": "python",
   "nbconvert_exporter": "python",
   "pygments_lexer": "ipython3",
   "version": "3.10.12"
  }
 },
 "nbformat": 4,
 "nbformat_minor": 2
}
